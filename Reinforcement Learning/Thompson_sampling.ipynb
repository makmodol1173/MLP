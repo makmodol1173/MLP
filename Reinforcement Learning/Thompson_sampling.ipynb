{
 "cells": [
  {
   "cell_type": "markdown",
   "id": "1fec1c78",
   "metadata": {},
   "source": [
    "# Thompson Sampling Algorithm\n",
    "\n",
    "📚 Content List\n",
    "- Introduction\n",
    "- Libraries Used\n",
    "- Loading the Dataset\n",
    "- Initialization\n",
    "- Implementing Thompson Sampling\n",
    "- Visualizing the Results\n",
    "- Final Total Reward\n",
    "- Advantages of Thompson Sampling\n",
    "- Summary\n",
    "\n",
    "\n",
    "### Introduction\n",
    "Thompson Sampling is a powerful algorithm for solving the multi-armed bandit problem, a common scenario in reinforcement learning. The algorithm is based on Bayesian inference and provides an elegant solution to balance exploration (trying different options) and exploitation (choosing the best-known option).\n",
    "\n",
    "In this project, we use Thompson Sampling to select the best advertisement to show to users based on their past behavior (clicks or no clicks). The goal is to maximize the total number of clicks (reward)."
   ]
  },
  {
   "cell_type": "markdown",
   "id": "c989caa7",
   "metadata": {},
   "source": [
    "### 1. Libraries Used"
   ]
  },
  {
   "cell_type": "code",
   "execution_count": null,
   "id": "b5b19adc",
   "metadata": {},
   "outputs": [],
   "source": [
    "import numpy as np\n",
    "import matplotlib.pyplot as plt\n",
    "import pandas as pd"
   ]
  },
  {
   "cell_type": "markdown",
   "id": "9d2806f1",
   "metadata": {},
   "source": [
    "*numpy*: Handles numerical computations.\n",
    "\n",
    "*matplotlib.pyplot*: Used to create plots and visualize results.\n",
    "\n",
    "*pandas*: Loads and processes the dataset."
   ]
  },
  {
   "cell_type": "markdown",
   "id": "a9a160ef",
   "metadata": {},
   "source": [
    "### 2. Loading the Dataset"
   ]
  },
  {
   "cell_type": "code",
   "execution_count": 2,
   "id": "5769ffca",
   "metadata": {},
   "outputs": [
    {
     "name": "stderr",
     "output_type": "stream",
     "text": [
      "<>:1: SyntaxWarning: invalid escape sequence '\\B'\n",
      "<>:1: SyntaxWarning: invalid escape sequence '\\B'\n",
      "C:\\Users\\makmo\\AppData\\Local\\Temp\\ipykernel_38556\\2155750773.py:1: SyntaxWarning: invalid escape sequence '\\B'\n",
      "  dataset = pd.read_csv('P:\\Batch\\MOAZ\\MLP\\Reinforcement Learning\\Ads_CTR_Optimisation.csv')\n"
     ]
    }
   ],
   "source": [
    "dataset = pd.read_csv('P:\\Batch\\MOAZ\\MLP\\Reinforcement Learning\\Ads_CTR_Optimisation.csv')"
   ]
  },
  {
   "cell_type": "markdown",
   "id": "c55e474f",
   "metadata": {},
   "source": [
    "- Loads a dataset with 10 columns (representing 10 ads) and 10,000 rows (each row = one user).\n",
    "\n",
    "- Each cell value is either 0 (no click) or 1 (click)."
   ]
  },
  {
   "cell_type": "markdown",
   "id": "455ee1f4",
   "metadata": {},
   "source": [
    "### 3. Initialization"
   ]
  },
  {
   "cell_type": "code",
   "execution_count": 3,
   "id": "0ca51e69",
   "metadata": {},
   "outputs": [],
   "source": [
    "N = 10000      # Total rounds (users shown ads)\n",
    "d = 10         # Number of ads\n",
    "\n",
    "ads_selected = []\n",
    "numbers_of_rewards_1 = [0] * d\n",
    "numbers_of_rewards_0 = [0] * d\n",
    "total_reward = 0"
   ]
  },
  {
   "cell_type": "markdown",
   "id": "1fc255e6",
   "metadata": {},
   "source": [
    "**Explanation:**\n",
    "\n",
    "*random*: Built-in Python module for generating random numbers.\n",
    "\n",
    "*N*: Total number of iterations/users.\n",
    "\n",
    "*d*: Total number of ads (arms of the bandit).\n",
    "\n",
    "*ads_selected*: Keeps a list of which ad was selected in each round.\n",
    "\n",
    "*numbers_of_rewards_1[i]*: Number of times ad i received a click (reward = 1).\n",
    "\n",
    "*numbers_of_rewards_0[i]*: Number of times ad i received no click (reward = 0).\n",
    "\n",
    "*total_reward*: Cumulative sum of all clicks (rewards)."
   ]
  },
  {
   "cell_type": "markdown",
   "id": "80cd7635",
   "metadata": {},
   "source": [
    "### 4. Implementing Thompson Sampling"
   ]
  },
  {
   "cell_type": "code",
   "execution_count": 5,
   "id": "4689da03",
   "metadata": {},
   "outputs": [],
   "source": [
    "import random\n",
    "for n in range(0, N):\n",
    "    ad = 0\n",
    "    max_random = 0\n",
    "\n",
    "    for i in range(0, d):\n",
    "        random_beta = random.betavariate(numbers_of_rewards_1[i] + 1, numbers_of_rewards_0[i] + 1)\n",
    "        if random_beta > max_random:\n",
    "            max_random = random_beta\n",
    "            ad = i\n",
    "\n",
    "    ads_selected.append(ad)\n",
    "    reward = dataset.values[n, ad]\n",
    "    \n",
    "    if reward == 1:\n",
    "        numbers_of_rewards_1[ad] += 1\n",
    "    else:\n",
    "        numbers_of_rewards_0[ad] += 1\n",
    "\n",
    "    total_reward += reward"
   ]
  },
  {
   "cell_type": "markdown",
   "id": "25a720e3",
   "metadata": {},
   "source": [
    "**Explanation:**\n",
    "\n",
    "- For each user (round):\n",
    "\n",
    "    - Loop through all ads and sample a random value from the Beta distribution using current    estimates.\n",
    "\n",
    "    - random.betavariate(alpha, beta) simulates a possible CTR for ad i.\n",
    "\n",
    "       - alpha = 1 + number of 1s (clicks)\n",
    "\n",
    "       - beta = 1 + number of 0s (no clicks)\n",
    "\n",
    "    - Select the ad with the highest sampled value (max_random).\n",
    "\n",
    "- Append the selected ad to the list.\n",
    "\n",
    "- Check if the user clicked the ad (reward == 1) or not, then update the appropriate counter.\n",
    "\n",
    "- Add the reward to total_reward.\n",
    "\n",
    "***Why Beta Distribution?***\n",
    "\n",
    "- It models the probability of success in binary events (click or no click).\n",
    "\n",
    "- Starts uniform and gets more accurate as data comes in."
   ]
  },
  {
   "cell_type": "markdown",
   "id": "bcd903f2",
   "metadata": {},
   "source": [
    "### 5. Visualizing the Results"
   ]
  },
  {
   "cell_type": "code",
   "execution_count": 6,
   "id": "a3b018b1",
   "metadata": {},
   "outputs": [
    {
     "data": {
      "image/png": "[encoded data removed]",
      "text/plain": [
       "<Figure size 640x480 with 1 Axes>"
      ]
     },
     "metadata": {},
     "output_type": "display_data"
    }
   ],
   "source": [
    "plt.hist(ads_selected)\n",
    "plt.title('Histogram of ads selections')\n",
    "plt.xlabel('Ads')\n",
    "plt.ylabel('Number of times each ad was selected')\n",
    "plt.show()"
   ]
  },
  {
   "cell_type": "markdown",
   "id": "44116569",
   "metadata": {},
   "source": [
    "- This plot shows how often each ad was selected.\n",
    "\n",
    "- Ads with higher CTRs will be selected more frequently.\n",
    "\n",
    "- This shows that Thompson Sampling converges to the best ads over time."
   ]
  },
  {
   "cell_type": "markdown",
   "id": "56706c97",
   "metadata": {},
   "source": [
    "### 6. Final Total Reward"
   ]
  },
  {
   "cell_type": "code",
   "execution_count": 7,
   "id": "2bbffd47",
   "metadata": {},
   "outputs": [
    {
     "name": "stdout",
     "output_type": "stream",
     "text": [
      "Total Reward (Total Clicks): 2602\n"
     ]
    }
   ],
   "source": [
    "print(f\"Total Reward (Total Clicks): {total_reward}\")"
   ]
  },
  {
   "cell_type": "markdown",
   "id": "4a46ec55",
   "metadata": {},
   "source": [
    "- Outputs the total number of clicks (successes) across all rounds."
   ]
  },
  {
   "cell_type": "markdown",
   "id": "ad0d1065",
   "metadata": {},
   "source": [
    "### 7. Advantages of Thompson Sampling\n",
    "\n",
    "**Probabilistic:** Naturally incorporates uncertainty and learns over time.\n",
    "\n",
    "**Efficient:** Learns faster than greedy or epsilon-greedy algorithms.\n",
    "\n",
    "**Scalable:** Can work on large datasets and many options.\n",
    "\n"
   ]
  },
  {
   "cell_type": "markdown",
   "id": "f94ce195",
   "metadata": {},
   "source": [
    "### 8. Summary\n",
    "\n",
    "- Thompson Sampling helps select the best ad by sampling from posterior distributions.\n",
    "\n",
    "- Over time, it becomes increasingly confident about the best-performing ad.\n",
    "\n",
    "- It provides a powerful method to deal with exploration vs. exploitation in online learning problems."
   ]
  }
 ],
 "metadata": {
  "kernelspec": {
   "display_name": "Python 3",
   "language": "python",
   "name": "python3"
  },
  "language_info": {
   "codemirror_mode": {
    "name": "ipython",
    "version": 3
   },
   "file_extension": ".py",
   "mimetype": "text/x-python",
   "name": "python",
   "nbconvert_exporter": "python",
   "pygments_lexer": "ipython3",
   "version": "3.12.6"
  }
 },
 "nbformat": 4,
 "nbformat_minor": 5
}
