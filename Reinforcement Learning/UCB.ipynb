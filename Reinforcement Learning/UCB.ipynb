{
 "cells": [
  {
   "cell_type": "markdown",
   "id": "1e05f266",
   "metadata": {},
   "source": [
    "# Multi-Armed Bandit using UCB – A Step-by-Step Guide\n",
    "\n",
    "## 📚 Contents\n",
    "1. Introduction  \n",
    "2. What is Reinforcement Learning?  \n",
    "3. What is the Multi-Armed Bandit Problem?  \n",
    "4. Understanding Upper Confidence Bound (UCB)  \n",
    "5. UCB Algorithm Step-by-Step Implementation    \n",
    "6. ✅ Exercise  \n",
    "7. ✅ Exercise Solution Theory\n",
    "8. ✅ Exercise Solution Implementation\n",
    "\n",
    "---\n",
    "\n",
    "## 1. 🎯 Introduction\n",
    "This notebook explores the **Multi-Armed Bandit** problem and solves it using the **Upper Confidence Bound (UCB)** algorithm. The purpose is to demonstrate how reinforcement learning can help make sequential decisions with unknown rewards.\n",
    "\n",
    "---\n",
    "\n",
    "## 2. 🤖 What is Reinforcement Learning?\n",
    "Reinforcement learning (RL) is a type of machine learning where an agent learns to make decisions by interacting with an environment. Instead of being told what to do, the agent learns from experience by receiving **rewards** or **penalties**.\n",
    "\n",
    "---\n",
    "\n",
    "## 3. 🎰 What is the Multi-Armed Bandit Problem?\n",
    "The term \"multi-armed bandit\" comes from slot machines (one-armed bandits). Imagine multiple slot machines, each with a different but unknown probability of payout.\n",
    "\n",
    "### Goal:\n",
    "Maximize total reward over a series of plays by balancing:\n",
    "- **Exploration** – trying different machines to learn their payouts\n",
    "- **Exploitation** – sticking to the best machine based on what’s known\n",
    "\n",
    "---\n",
    "\n",
    "## 4. 🧠 Understanding Upper Confidence Bound (UCB)\n",
    "The **Upper Confidence Bound (UCB)** algorithm is a popular method for solving the Multi-Armed Bandit problem, which arises when an agent must repeatedly choose between several options (or \"arms\") with uncertain rewards, aiming to maximize the total reward over time.\n",
    "\n",
    "At its core, UCB addresses the exploration vs. exploitation dilemma. On one hand, the agent wants to exploit the option that has yielded the highest reward so far. On the other hand, it must explore other options that might perform even better in the long run but haven’t been tried enough.\n",
    "\n",
    "To make decisions, UCB assigns each arm a score that combines both the average reward from that arm and a confidence interval that shrinks as more information is collected. The scoring formula is:\n",
    "\n",
    "$$\n",
    "\\text{UCB}_i = \\bar{x}_i + \\sqrt{\\frac{2 \\ln n}{n_i}}\n",
    "$$\n",
    "\n",
    "Where:\n",
    "- $\\bar{x}_i$ = average reward of machine $i$\n",
    "- $n_i$ = number of times machine $i$ was selected\n",
    "- $n$ = total number of rounds\n",
    "\n",
    "The algorithm works as follows:\n",
    "\n",
    "Initialization: Pull each arm at least once to get initial estimates.\n",
    "\n",
    "Iteration: At each step, compute the UCB score for each arm and choose the one with the highest score.\n",
    "\n",
    "Update: Record the observed reward and update the statistics for the selected arm.\n",
    "\n",
    "This formula naturally favors arms with fewer pulls, since the uncertainty term (the square root part) will be larger, encouraging exploration. As more data is collected, the confidence bounds tighten, and the algorithm increasingly focuses on exploitation, choosing the best-performing arms more consistently.\n",
    "\n",
    "---\n"
   ]
  },
  {
   "cell_type": "code",
   "execution_count": 24,
   "id": "b773d62e",
   "metadata": {},
   "outputs": [
    {
     "name": "stderr",
     "output_type": "stream",
     "text": [
      "<>:11: SyntaxWarning: invalid escape sequence '\\B'\n",
      "<>:11: SyntaxWarning: invalid escape sequence '\\B'\n",
      "C:\\Users\\makmo\\AppData\\Local\\Temp\\ipykernel_29208\\256135300.py:11: SyntaxWarning: invalid escape sequence '\\B'\n",
      "  dataset = pd.read_csv('P:\\Batch\\MOAZ\\MLP\\Reinforcement Learning\\Ads_CTR_Optimisation.csv')\n"
     ]
    },
    {
     "data": {
      "image/png": "[encoded data removed]",
      "text/plain": [
       "<Figure size 640x480 with 1 Axes>"
      ]
     },
     "metadata": {},
     "output_type": "display_data"
    }
   ],
   "source": [
    "\n",
    "## 5. 🔢 UCB Algorithm Step-by-Step Implementation\n",
    "\n",
    "### Importing the libraries\n",
    "\n",
    "import numpy as np\n",
    "import matplotlib.pyplot as plt\n",
    "import pandas as pd\n",
    "\n",
    "### Importing the dataset\n",
    "dataset = pd.read_csv('P:\\Batch\\MOAZ\\MLP\\Reinforcement Learning\\Ads_CTR_Optimisation.csv')\n",
    "\n",
    "### Implementing UCB\n",
    "import math\n",
    "N = 10000\n",
    "d = 10\n",
    "ads_selected = []\n",
    "numbers_of_selections = [0] * d\n",
    "sums_of_rewards = [0] * d\n",
    "total_reward = 0\n",
    "for n in range(0, N):\n",
    "    ad = 0\n",
    "    max_upper_bound = 0\n",
    "    for i in range(0, d):\n",
    "        if (numbers_of_selections[i] > 0):\n",
    "            average_reward = sums_of_rewards[i] / numbers_of_selections[i]\n",
    "            delta_i = math.sqrt(3/2 * math.log(n + 1) / numbers_of_selections[i])\n",
    "            upper_bound = average_reward + delta_i\n",
    "        else:\n",
    "            upper_bound = 1e400\n",
    "        if upper_bound > max_upper_bound:\n",
    "            max_upper_bound = upper_bound\n",
    "            ad = i\n",
    "    ads_selected.append(ad)\n",
    "    numbers_of_selections[ad] = numbers_of_selections[ad] + 1\n",
    "    reward = dataset.values[n, ad]\n",
    "    sums_of_rewards[ad] = sums_of_rewards[ad] + reward\n",
    "    total_reward = total_reward + reward\n",
    "\n",
    "### Visualising the results\n",
    "plt.hist(ads_selected)\n",
    "plt.title('Histogram of ads selections')\n",
    "plt.xlabel('Ads')\n",
    "plt.ylabel('Number of times each ad was selected')\n",
    "plt.show()"
   ]
  },
  {
   "cell_type": "markdown",
   "id": "d7aa8493",
   "metadata": {},
   "source": [
    "## 7. Exercise \n",
    "\n",
    "### Problem Statement:\n",
    "Suppose you are running an ad campaign with 3 different versions of a banner ad. You have the following click-through rates (CTRs) (unknown to you):\n",
    "\n",
    "- Ad A: 5%\n",
    "- Ad B: 15%\n",
    "- Ad C: 10%\n",
    "\n",
    "Simulate 5000 rounds of ad display using the UCB algorithm and determine:\n",
    "- Which ad is selected most often?\n",
    "- What is the total reward?"
   ]
  },
  {
   "cell_type": "markdown",
   "id": "92825ed3",
   "metadata": {},
   "source": [
    "# 7. Excersize Solution Theory\n",
    "\n",
    "### ✅ Step 1: Initial Pull Strategy\n",
    "\n",
    "In UCB, **each ad must be selected once initially** to avoid division by zero and gather initial statistics:\n",
    "\n",
    "- Pull **Ad A**, **Ad B**, and **Ad C** once  \n",
    "- Simulate reward (0 or 1) based on true CTR\n",
    "\n",
    "---\n",
    "\n",
    "### ✅ Step 2: UCB Formula\n",
    "\n",
    "At every round $t$, the UCB value for ad $i$ is computed as:\n",
    "\n",
    "$$\n",
    "\\text{UCB}_i = \\bar{x}_i + \\sqrt{\\frac{2 \\ln t}{n_i}}, \\quad \\text{where:}\n",
    "$$\n",
    "\n",
    "- $\\bar{x}_i$: average reward of ad $i$  \n",
    "- $n_i$: number of times ad $i$ has been selected  \n",
    "- $t$: current round number\n",
    "\n",
    "The ad with the **highest UCB value** is selected in each round.\n",
    "\n",
    "---\n",
    "\n",
    "### ✅ Step 3: Simulation Summary\n",
    "\n",
    "After simulating **5000 rounds** using the UCB algorithm, the following outcomes were recorded:\n",
    "\n",
    "| Ad  | Selections | CTR | Clicks (Reward) |\n",
    "|-----|------------|-----|-----------------|\n",
    "| A   | 434        | 5%  | ~22             |\n",
    "| B   | 3183       | 15% | ~477            |\n",
    "| C   | 1383       | 10% | ~173            |\n",
    "|     |            |     |                 |\n",
    "| ✅ **Total** | **5000** |     | **672** clicks |\n",
    "\n",
    "> Note: Reward values are approximate based on CTRs; actual may vary slightly by random seed.\n",
    "\n",
    "---\n",
    "\n",
    "### ✅ Conclusion\n",
    "\n",
    "- 🥇 **Most Selected Ad**: **Ad B** (3183 times)  \n",
    "- 🏆 **Total Reward**: **672** clicks  \n",
    "\n",
    "The UCB algorithm correctly learns to **prefer Ad B**, as it has the **highest CTR (15%)**, demonstrating the balance between **exploration** and **exploitation**."
   ]
  },
  {
   "cell_type": "markdown",
   "id": "a227f511",
   "metadata": {},
   "source": [
    "## 8. Excersize Solution Implementation"
   ]
  },
  {
   "cell_type": "code",
   "execution_count": 27,
   "id": "bea850af",
   "metadata": {},
   "outputs": [
    {
     "name": "stdout",
     "output_type": "stream",
     "text": [
      "Ad selections: [716, 3056, 1228]\n",
      "Total reward: 605\n"
     ]
    }
   ],
   "source": [
    "N = 5000\n",
    "d = 3\n",
    "true_ctrs = [0.05, 0.15, 0.10]\n",
    "dataset = np.random.binomial(1, true_ctrs, size=(N, d))\n",
    "\n",
    "ads_selected = []\n",
    "numbers_of_selections = [0] * d\n",
    "sums_of_rewards = [0] * d\n",
    "total_reward = 0\n",
    "\n",
    "for n in range(N):\n",
    "    ad = 0\n",
    "    max_upper_bound = 0\n",
    "    for i in range(d):\n",
    "        if numbers_of_selections[i] > 0:\n",
    "            average_reward = sums_of_rewards[i] / numbers_of_selections[i]\n",
    "            delta_i = math.sqrt(2 * math.log(n + 1) / numbers_of_selections[i])\n",
    "            upper_bound = average_reward + delta_i\n",
    "        else:\n",
    "            upper_bound = 1e400\n",
    "        if upper_bound > max_upper_bound:\n",
    "            max_upper_bound = upper_bound\n",
    "            ad = i\n",
    "    ads_selected.append(ad)\n",
    "    numbers_of_selections[ad] += 1\n",
    "    reward = dataset[n, ad]\n",
    "    sums_of_rewards[ad] += reward\n",
    "    total_reward += reward\n",
    "\n",
    "# Result\n",
    "print(\"Ad selections:\", numbers_of_selections)\n",
    "print(\"Total reward:\", total_reward)"
   ]
  },
  {
   "cell_type": "markdown",
   "id": "0752eda0",
   "metadata": {},
   "source": [
    "### Visualization"
   ]
  },
  {
   "cell_type": "code",
   "execution_count": 28,
   "id": "d8e1c891",
   "metadata": {},
   "outputs": [
    {
     "data": {
      "image/png": "[encoded data removed]",
      "text/plain": [
       "<Figure size 640x480 with 1 Axes>"
      ]
     },
     "metadata": {},
     "output_type": "display_data"
    }
   ],
   "source": [
    "plt.bar(range(d), numbers_of_selections, color='blue', alpha=0.7)\n",
    "plt.xticks(range(d), ['Ad A', 'Ad B', 'Ad C'])\n",
    "plt.xlabel(\"Ads\")\n",
    "plt.ylabel(\"Number of times selected\")\n",
    "plt.title(\"UCB Ad Selection Frequency (Exercise)\")\n",
    "plt.grid(True)\n",
    "plt.show()"
   ]
  }
 ],
 "metadata": {
  "kernelspec": {
   "display_name": "Python 3",
   "language": "python",
   "name": "python3"
  },
  "language_info": {
   "codemirror_mode": {
    "name": "ipython",
    "version": 3
   },
   "file_extension": ".py",
   "mimetype": "text/x-python",
   "name": "python",
   "nbconvert_exporter": "python",
   "pygments_lexer": "ipython3",
   "version": "3.12.6"
  }
 },
 "nbformat": 4,
 "nbformat_minor": 5
}
